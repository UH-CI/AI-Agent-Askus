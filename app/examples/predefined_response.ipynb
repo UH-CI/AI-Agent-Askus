{
 "cells": [
  {
   "cell_type": "code",
   "execution_count": 5,
   "metadata": {},
   "outputs": [
    {
     "name": "stdout",
     "output_type": "stream",
     "text": [
      "[Document(metadata={'predefined': 'This is a predefined response'}, page_content='This is a predefined query')]\n"
     ]
    },
    {
     "data": {
      "text/plain": [
       "['6324165b-0d40-49c3-9c9b-91b1467605c0']"
      ]
     },
     "execution_count": 5,
     "metadata": {},
     "output_type": "execute_result"
    }
   ],
   "source": [
    "from manoa_agent.embeddings import convert\n",
    "from openai import OpenAI\n",
    "from chromadb import HttpClient\n",
    "from langchain_chroma import Chroma\n",
    "from langchain_core.documents import Document\n",
    "from manoa_agent.db.chroma import utils\n",
    "\n",
    "from dotenv import load_dotenv\n",
    "import os\n",
    "\n",
    "load_dotenv(override=True)\n",
    "\n",
    "embedder = convert.from_open_ai(OpenAI(), \"text-embedding-3-large\")\n",
    "http_client = HttpClient(host=os.getenv(\"CHROMA_HOST\"), port=os.getenv(\"CHROMA_PORT\"))\n",
    "\n",
    "predefined_collection = Chroma(\n",
    "    collection_name=\"predefined\",\n",
    "    client=http_client,\n",
    "    embedding_function=embedder,\n",
    "    collection_metadata={\"hnsw:space\": \"cosine\"}\n",
    ")\n",
    "\n",
    "predefined_responses = [\n",
    "    (\"This is a predefined query\", \"This is a predefined response\"),\n",
    "]\n",
    "\n",
    "predefined_docs = []\n",
    "for predefined_response in predefined_responses:\n",
    "    doc = Document(page_content=predefined_response[0], metadata={\"predefined\": predefined_response[1]})\n",
    "    predefined_docs.append(doc)\n",
    "\n",
    "print(predefined_docs)\n",
    "predefined_collection.reset_collection()\n",
    "predefined_collection.add_documents(predefined_docs)"
   ]
  }
 ],
 "metadata": {
  "kernelspec": {
   "display_name": "ai-agent-askus",
   "language": "python",
   "name": "python3"
  },
  "language_info": {
   "codemirror_mode": {
    "name": "ipython",
    "version": 3
   },
   "file_extension": ".py",
   "mimetype": "text/x-python",
   "name": "python",
   "nbconvert_exporter": "python",
   "pygments_lexer": "ipython3",
   "version": "3.10.15"
  }
 },
 "nbformat": 4,
 "nbformat_minor": 2
}
