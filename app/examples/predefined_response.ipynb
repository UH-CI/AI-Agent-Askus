{
 "cells": [
  {
   "cell_type": "code",
   "execution_count": null,
   "metadata": {},
   "outputs": [],
   "source": [
    "from manoa_agent.embeddings import convert\n",
    "from openai import OpenAI\n",
    "from manoa_agent.db.chroma import utils\n",
    "from chromadb import HttpClient\n",
    "from langchain_chroma import Chroma\n",
    "from manoa_agent.loaders.html import HtmlDirectoryLoader\n",
    "from manoa_agent.loaders.json_loader import JSONFileLoader\n",
    "from langchain.text_splitter import CharacterTextSplitter\n",
    "\n",
    "from dotenv import load_dotenv\n",
    "import os\n",
    "\n",
    "load_dotenv(override=True)\n",
    "\n",
    "embedder = convert.from_open_ai(OpenAI(), \"text-embedding-3-large\")\n",
    "http_client = HttpClient(host=os.getenv(\"CHROMA_HOST\"), port=os.getenv(\"CHROMA_PORT\"))\n",
    "\n",
    "predefined_collection = Chroma(\n",
    "    collection_name=\"predefined\",\n",
    "    client=http_client,\n",
    "    embedding_function=embedder,\n",
    "    collection_metadata={\"hnsw:space\": \"cosine\"}\n",
    ")"
   ]
  }
 ],
 "metadata": {
  "kernelspec": {
   "display_name": "ai-agent-askus",
   "language": "python",
   "name": "python3"
  },
  "language_info": {
   "name": "python",
   "version": "3.10.15"
  }
 },
 "nbformat": 4,
 "nbformat_minor": 2
}
