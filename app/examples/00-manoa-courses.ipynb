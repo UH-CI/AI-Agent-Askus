{
 "cells": [
  {
   "cell_type": "code",
   "id": "initial_id",
   "metadata": {
    "collapsed": true,
    "ExecuteTime": {
     "end_time": "2025-05-15T12:56:13.609166Z",
     "start_time": "2025-05-15T12:56:12.568539Z"
    }
   },
   "source": [
    "import os\n",
    "from langchain_google_genai import GoogleGenerativeAI\n",
    "from dotenv import load_dotenv\n",
    "from langchain_neo4j import Neo4jGraph\n",
    "\n",
    "load_dotenv(override=True)"
   ],
   "outputs": [
    {
     "data": {
      "text/plain": [
       "True"
      ]
     },
     "execution_count": 1,
     "metadata": {},
     "output_type": "execute_result"
    }
   ],
   "execution_count": 1
  },
  {
   "metadata": {},
   "cell_type": "code",
   "outputs": [],
   "execution_count": null,
   "source": "",
   "id": "e40035335718701"
  },
  {
   "metadata": {
    "ExecuteTime": {
     "end_time": "2025-05-15T12:56:15.230112Z",
     "start_time": "2025-05-15T12:56:14.839072Z"
    }
   },
   "cell_type": "code",
   "source": "graph = Neo4jGraph(database=\"neo4j\")",
   "id": "7a74922fd8b51962",
   "outputs": [],
   "execution_count": 2
  },
  {
   "metadata": {
    "ExecuteTime": {
     "end_time": "2025-05-15T13:29:41.941515Z",
     "start_time": "2025-05-15T13:29:41.744830Z"
    }
   },
   "cell_type": "code",
   "source": [
    "output = graph.query(\"\"\"CALL apoc.export.graphml.all(\n",
    "  null,\n",
    "  {stream:true, useTypes:true}\n",
    ")\"\"\")"
   ],
   "id": "2591e64e82c62026",
   "outputs": [],
   "execution_count": 38
  },
  {
   "metadata": {
    "ExecuteTime": {
     "end_time": "2025-05-15T13:29:44.170872Z",
     "start_time": "2025-05-15T13:29:44.167808Z"
    }
   },
   "cell_type": "code",
   "source": "list(output[0].keys())",
   "id": "c3d8c357648c21d8",
   "outputs": [
    {
     "data": {
      "text/plain": [
       "['file',\n",
       " 'source',\n",
       " 'format',\n",
       " 'nodes',\n",
       " 'relationships',\n",
       " 'properties',\n",
       " 'time',\n",
       " 'rows',\n",
       " 'batchSize',\n",
       " 'batches',\n",
       " 'done',\n",
       " 'data']"
      ]
     },
     "execution_count": 40,
     "metadata": {},
     "output_type": "execute_result"
    }
   ],
   "execution_count": 40
  },
  {
   "metadata": {
    "ExecuteTime": {
     "end_time": "2025-05-15T13:30:38.544498Z",
     "start_time": "2025-05-15T13:30:38.541489Z"
    }
   },
   "cell_type": "code",
   "source": "print(output[0][\"format\"])",
   "id": "e638b5fe9d2e6291",
   "outputs": [
    {
     "name": "stdout",
     "output_type": "stream",
     "text": [
      "graphml\n"
     ]
    }
   ],
   "execution_count": 42
  },
  {
   "metadata": {
    "ExecuteTime": {
     "end_time": "2025-05-15T13:20:08.885471Z",
     "start_time": "2025-05-15T13:20:08.880334Z"
    }
   },
   "cell_type": "code",
   "source": [
    "with open(\"../data/course-data/courses.gephi\", \"w\") as f:\n",
    "    f.write(str(output[0]['data']))"
   ],
   "id": "ab36a3fd79b6baef",
   "outputs": [],
   "execution_count": 29
  },
  {
   "metadata": {},
   "cell_type": "code",
   "source": [
    "from langchain_experimental.graph_transformers import LLMGraphTransformer\n",
    "from langchain_openai import ChatOpenAI\n",
    "\n",
    "llm = ChatOpenAI(temperature=0, model_name=\"models/gemini-2.0-flash\", api_key=os.getenv(\"GEMINI_API_KEY\"),\n",
    "                 base_url=os.getenv(\"GEMINI_BASE_URL\"))\n",
    "# llm2 = GoogleGenerativeAI(model=\"models/gemini-2.5-flash-preview-04-17\", google_api_key=os.getenv(\"GEMINI_API_KEY\"))\n",
    "\n",
    "llm_transformer = LLMGraphTransformer(\n",
    "    llm=llm,\n",
    "\n",
    "    allowed_nodes=[\n",
    "        \"Course\",\n",
    "        \"Subject\",\n",
    "        \"Program\",\n",
    "        \"College\",\n",
    "        \"Degree\",  # e.g. Bachelor of Arts\n",
    "        \"Certificate\",  # e.g. Minor, Post-bac Cert.\n",
    "        \"Abbreviation\"  # e.g. “BA”, “PhD”, “MPH”, “CTAHR”\n",
    "    ],\n",
    "\n",
    "    allowed_relationships=[\n",
    "        \"BELONGS_TO\",  # Course → Subject\n",
    "        \"PART_OF\",  # Subject → College\n",
    "        \"OFFERS\",  # Program → Degree/Certificate\n",
    "        \"HAS_ABBREV\",  # Degree/Certificate/College/Subject → Abbreviation\n",
    "        \"REQUIRES\",  # Course → Course (prereq)\n",
    "        \"CROSS_LISTED_AS\",  # Course ↔ Course\n",
    "        \"REPEATABLE_UP_TO\"  # Course → Course (max repeats)\n",
    "    ],\n",
    "\n",
    "    node_properties=[\n",
    "        # for Course, Subject, Program, College\n",
    "        \"title\",\n",
    "        \"description\",\n",
    "        \"credits\",\n",
    "        \"course_number\",\n",
    "        \"metadata\",\n",
    "        # for Degree/Certificate\n",
    "        \"full_name\",\n",
    "        # for Abbreviation\n",
    "        \"code\"  # e.g. “BA”, “JD”, “CTAHR”\n",
    "    ],\n",
    "\n",
    "    relationship_properties=[\n",
    "        \"min_grade\",  # PRE: requirements\n",
    "        \"max_repeats\",  # how many times repeatable\n",
    "        \"cross_list_code\"  # e.g. “ES 450” ↔ “WGSS 450”\n",
    "    ]\n",
    ")\n"
   ],
   "id": "7382e2a5cc7f8c75",
   "outputs": [],
   "execution_count": null
  },
  {
   "metadata": {},
   "cell_type": "code",
   "source": "llm.invoke(\"who am i speaking to?\")",
   "id": "b4cbcdfd4a6b4dc1",
   "outputs": [],
   "execution_count": null
  },
  {
   "metadata": {},
   "cell_type": "code",
   "source": [
    "from langchain_core.documents import Document\n",
    "\n",
    "with open(\"../data/course-data/catalog.json\", \"r\") as f:\n",
    "    catalog = f.read()\n",
    "\n",
    "lines = catalog.splitlines()\n",
    "\n",
    "chunks = [\n",
    "    \"\\n\".join(lines[i: i + 100])\n",
    "    for i in range(0, len(lines), 100)\n",
    "]\n",
    "\n",
    "catalog_docs = [Document(page_content=chunk) for chunk in chunks]\n",
    "\n",
    "with open(\"../data/course-data/abbreviation.txt\", \"r\") as f:\n",
    "    abbreviations = f.read()\n",
    "\n",
    "documents = [Document(page_content=abbreviations)] # + catalog_docs[:3]\n",
    "graph_documents = llm_transformer.convert_to_graph_documents(documents)"
   ],
   "id": "bf27eb17d37e511f",
   "outputs": [],
   "execution_count": null
  },
  {
   "metadata": {},
   "cell_type": "code",
   "source": "print(graph_documents)",
   "id": "6544079fed375671",
   "outputs": [],
   "execution_count": null
  },
  {
   "metadata": {},
   "cell_type": "code",
   "source": [
    "remaining_documents = catalog_docs[2:]\n",
    "remaining_graph_documents = llm_transformer.aconvert_to_graph_documents(remaining_documents)"
   ],
   "id": "862cf334b08e362f",
   "outputs": [],
   "execution_count": null
  },
  {
   "metadata": {},
   "cell_type": "code",
   "source": [
    "import nest_asyncio, asyncio\n",
    "\n",
    "nest_asyncio.apply()\n",
    "loop = asyncio.get_event_loop()\n",
    "graph_docs = loop.run_until_complete(graph_documents)"
   ],
   "id": "7a5530c809e36997",
   "outputs": [],
   "execution_count": null
  },
  {
   "metadata": {},
   "cell_type": "code",
   "source": "print(graph_docs)",
   "id": "6ba410bcf36ce0b",
   "outputs": [],
   "execution_count": null
  },
  {
   "metadata": {},
   "cell_type": "code",
   "source": "graph.add_graph_documents(graph_docs)",
   "id": "9e178aa4e73c6a5a",
   "outputs": [],
   "execution_count": null
  },
  {
   "metadata": {},
   "cell_type": "code",
   "source": "graph.query(\"MATCH (n) RETURN n LIMIT 12\")",
   "id": "a0690d0cce52678d",
   "outputs": [],
   "execution_count": null
  },
  {
   "metadata": {},
   "cell_type": "code",
   "source": [
    "# delete all nodes\n",
    "graph.query(\"MATCH (n) DETACH DELETE n\")"
   ],
   "id": "9c559d98901a1a19",
   "outputs": [],
   "execution_count": null
  }
 ],
 "metadata": {
  "kernelspec": {
   "display_name": "Python 3",
   "language": "python",
   "name": "python3"
  },
  "language_info": {
   "codemirror_mode": {
    "name": "ipython",
    "version": 2
   },
   "file_extension": ".py",
   "mimetype": "text/x-python",
   "name": "python",
   "nbconvert_exporter": "python",
   "pygments_lexer": "ipython2",
   "version": "2.7.6"
  }
 },
 "nbformat": 4,
 "nbformat_minor": 5
}
