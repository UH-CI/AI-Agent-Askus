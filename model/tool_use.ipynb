{
 "cells": [
  {
   "cell_type": "code",
   "execution_count": 12,
   "metadata": {},
   "outputs": [],
   "source": [
    "# %load_ext dotenv\n",
    "# %dotenv ../.env\n",
    "# %load_ext autoreload"
   ]
  },
  {
   "cell_type": "code",
   "execution_count": 1,
   "metadata": {},
   "outputs": [],
   "source": [
    "import os\n",
    "from typing import Annotated\n",
    "from langchain_openai import ChatOpenAI\n",
    "from langchain.tools import tool\n",
    "from langchain.agents import AgentExecutor, create_tool_calling_agent, create_react_agent\n",
    "from langchain_openai import OpenAI\n",
    "from langchain import hub"
   ]
  },
  {
   "cell_type": "code",
   "execution_count": 38,
   "metadata": {},
   "outputs": [],
   "source": [
    "llm = ChatOpenAI(  \n",
    "    model=\"gpt-4o\",  \n",
    "    temperature=0,  \n",
    "    max_tokens=None,  \n",
    "    timeout=None,  \n",
    "    max_retries=2,\n",
    ")"
   ]
  },
  {
   "cell_type": "code",
   "execution_count": 9,
   "metadata": {},
   "outputs": [],
   "source": [
    "llm = ChatOpenAI(\n",
    "    api_key=\"ollama\",\n",
    "    model=\"gemma2:27b\",\n",
    "    base_url=\"http://localhost:11434/v1\",\n",
    "    temperature=0,\n",
    ")"
   ]
  },
  {
   "cell_type": "code",
   "execution_count": 10,
   "metadata": {},
   "outputs": [
    {
     "data": {
      "text/plain": [
       "AIMessage(content='Hello! 👋\\n\\nHow can I help you today? 😊', response_metadata={'token_usage': {'completion_tokens': 13, 'prompt_tokens': 10, 'total_tokens': 23}, 'model_name': 'gemma2:27b', 'system_fingerprint': 'fp_ollama', 'finish_reason': 'stop', 'logprobs': None}, id='run-7b8b768a-30ec-4ad6-9baf-307eb44f7324-0', usage_metadata={'input_tokens': 10, 'output_tokens': 13, 'total_tokens': 23})"
      ]
     },
     "execution_count": 10,
     "metadata": {},
     "output_type": "execute_result"
    }
   ],
   "source": [
    "llm.invoke(\"hello\")"
   ]
  },
  {
   "cell_type": "code",
   "execution_count": 17,
   "metadata": {},
   "outputs": [],
   "source": [
    "from langchain.tools import tool\n",
    "from typing import Optional, Type\n",
    "from langchain_core.prompts import ChatPromptTemplate\n",
    "from langchain_core.tools import BaseTool\n",
    "from langchain.pydantic_v1 import BaseModel, Field\n",
    "from langchain.callbacks.manager import CallbackManagerForToolRun\n",
    "from langchain_core.output_parsers import StrOutputParser\n",
    "\n",
    "class AnswerAboutSelfInput(BaseModel):\n",
    "    query: str = Field(description=\"query about yourself or user greeting\")\n",
    "\n",
    "class AnswerAboutSelf(BaseTool):\n",
    "    name = \"answer_about_self\"\n",
    "    description = \"Use this tool if the user query is a question about the chatbot, or if it is a greeting or a farewell.\\nThe action input must be the user query unedited.\"\n",
    "    args_schema: Type[BaseModel] = AnswerAboutSelfInput\n",
    "    return_direct = True\n",
    "\n",
    "    def _run(self, query: str, run_manager: Optional[CallbackManagerForToolRun] = None) -> str:\n",
    "        system_prompt = (\n",
    "            \"Your name is Hoku. You are an assistant for answering questions about UH Manoa.\\n\"\n",
    "            \"You were initially created during the Hawaii Annual Code Challenge by team DarkMode.\\n\"\n",
    "            \"You are currently under development.\\n\"\n",
    "            \"Only respond with information given here.\\n\"\n",
    "            \"Answer concisely do not add any additional information\"\n",
    "        )\n",
    "\n",
    "        qa_prompt = ChatPromptTemplate.from_messages(\n",
    "            [\n",
    "                (\"system\", system_prompt),\n",
    "                (\"human\", \"{query}\"),\n",
    "            ]\n",
    "        )\n",
    "\n",
    "        chain = qa_prompt | self.metadata['llm'] | StrOutputParser()\n",
    "        return chain.invoke({\"query\": query})"
   ]
  },
  {
   "cell_type": "code",
   "execution_count": null,
   "metadata": {},
   "outputs": [],
   "source": [
    "class ManoaNewsInput(BaseModel):\n",
    "    query: str = Field(description=\"query about current events at UH Manoa\")\n",
    "\n",
    "class ManoaNews(BaseTool):\n",
    "    name = \"answer_about_self\"\n",
    "    description = \"Use this tool if asked about current events or questions that need real-time data related to UH Manoa.\"\n",
    "    args_schema: Type[BaseModel] = ManoaNewsInput\n",
    "    return_direct = False\n",
    "\n",
    "    def _run(self, query: str, run_manager: Optional[CallbackManagerForToolRun] = None) -> str:\n",
    "        system_prompt = (\n",
    "            \"Your name is Hoku. You are an assistant for answering questions about UH Manoa.\\n\"\n",
    "            \"You were initially created during the Hawaii Annual Code Challenge by team DarkMode.\\n\"\n",
    "            \"You are currently under development.\\n\"\n",
    "            \"Only respond with information given here.\\n\"\n",
    "            \"Answer concisely do not add any additional information\"\n",
    "        )\n",
    "\n",
    "        qa_prompt = ChatPromptTemplate.from_messages(\n",
    "            [\n",
    "                (\"system\", system_prompt),\n",
    "                (\"human\", \"{query}\"),\n",
    "            ]\n",
    "        )\n",
    "\n",
    "        chain = qa_prompt | self.metadata['llm'] | StrOutputParser()\n",
    "        return chain.invoke({\"query\": query})\n",
    "    \n"
   ]
  },
  {
   "cell_type": "code",
   "execution_count": null,
   "metadata": {},
   "outputs": [],
   "source": [
    "tools = [AnswerAboutSelf(metadata={'llm': llm})]\n",
    "prompt = hub.pull(\"hwchase17/react\")\n",
    "agent = create_react_agent(llm, tools, prompt)\n",
    "agent_executor = AgentExecutor(agent=agent, tools=tools, verbose=True, handle_parsing_errors=True)"
   ]
  },
  {
   "cell_type": "code",
   "execution_count": 48,
   "metadata": {},
   "outputs": [
    {
     "name": "stdout",
     "output_type": "stream",
     "text": [
      "Answer the following questions as best you can. You have access to the following tools:\n",
      "\n",
      "{tools}\n",
      "\n",
      "Use the following format:\n",
      "\n",
      "Question: the input question you must answer\n",
      "Thought: you should always think about what to do\n",
      "Action: the action to take, should be one of [{tool_names}]\n",
      "Action Input: the input to the action\n",
      "Observation: the result of the action\n",
      "... (this Thought/Action/Action Input/Observation can repeat N times)\n",
      "Thought: I now know the final answer\n",
      "Final Answer: the final answer to the original input question\n",
      "\n",
      "Begin!\n",
      "\n",
      "Question: {input}\n",
      "Thought:{agent_scratchpad}\n"
     ]
    }
   ],
   "source": [
    "print(prompt.template)"
   ]
  },
  {
   "cell_type": "code",
   "execution_count": 21,
   "metadata": {},
   "outputs": [
    {
     "name": "stdout",
     "output_type": "stream",
     "text": [
      "\n",
      "\n",
      "\u001b[1m> Entering new AgentExecutor chain...\u001b[0m\n",
      "\u001b[32;1m\u001b[1;3mThought: This is a greeting.\n",
      "Action: answer_about_self\n",
      "Action Input: hello\u001b[0m\u001b[36;1m\u001b[1;3mHello!  I am Hoku, your UH Manoa assistant.\u001b[0m\n",
      "\u001b[32;1m\u001b[1;3m\u001b[0m\n",
      "\n",
      "\u001b[1m> Finished chain.\u001b[0m\n"
     ]
    },
    {
     "data": {
      "text/plain": [
       "{'input': 'hello', 'output': 'Hello!  I am Hoku, your UH Manoa assistant.'}"
      ]
     },
     "execution_count": 21,
     "metadata": {},
     "output_type": "execute_result"
    }
   ],
   "source": [
    "agent_executor.invoke({\"input\": \"hello\"})"
   ]
  },
  {
   "cell_type": "code",
   "execution_count": null,
   "metadata": {},
   "outputs": [],
   "source": []
  }
 ],
 "metadata": {
  "kernelspec": {
   "display_name": "ai-agent-askus",
   "language": "python",
   "name": "python3"
  },
  "language_info": {
   "codemirror_mode": {
    "name": "ipython",
    "version": 3
   },
   "file_extension": ".py",
   "mimetype": "text/x-python",
   "name": "python",
   "nbconvert_exporter": "python",
   "pygments_lexer": "ipython3",
   "version": "3.12.4"
  }
 },
 "nbformat": 4,
 "nbformat_minor": 2
}
