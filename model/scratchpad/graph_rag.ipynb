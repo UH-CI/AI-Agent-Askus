{
 "cells": [
  {
   "cell_type": "code",
   "execution_count": 25,
   "metadata": {},
   "outputs": [],
   "source": [
    "import neo4j\n",
    "from neo4j_graphrag.llm import OpenAILLM\n",
    "from neo4j_graphrag.embeddings.openai import OpenAIEmbeddings\n",
    "from neo4j_graphrag.experimental.pipeline.kg_builder import SimpleKGPipeline\n",
    "from neo4j_graphrag.retrievers import VectorRetriever\n",
    "from neo4j_graphrag.generation.graphrag import GraphRAG"
   ]
  },
  {
   "cell_type": "code",
   "execution_count": 26,
   "metadata": {},
   "outputs": [
    {
     "data": {
      "text/plain": [
       "True"
      ]
     },
     "execution_count": 26,
     "metadata": {},
     "output_type": "execute_result"
    }
   ],
   "source": [
    "import os\n",
    "from dotenv import load_dotenv\n",
    "load_dotenv(override=True)"
   ]
  },
  {
   "cell_type": "code",
   "execution_count": 27,
   "metadata": {},
   "outputs": [],
   "source": [
    "neo4j_driver = neo4j.GraphDatabase.driver(\n",
    "    os.getenv('NEO4J_URI'), \n",
    "    auth=(os.getenv('NEO4J_USERNAME'), os.getenv('NEO4J_PASSWORD'))\n",
    ")"
   ]
  },
  {
   "cell_type": "code",
   "execution_count": 28,
   "metadata": {},
   "outputs": [],
   "source": [
    "llm = OpenAILLM(\n",
    "    model_name=\"gpt-4o\",\n",
    "    model_params={\n",
    "        \"max_tokens\": 2000,\n",
    "        \"response_format\": {\"type\": \"json_object\"},\n",
    "    },\n",
    ")"
   ]
  },
  {
   "cell_type": "code",
   "execution_count": 29,
   "metadata": {},
   "outputs": [],
   "source": [
    "embedder = OpenAIEmbeddings(model=\"text-embedding-3-large\")"
   ]
  },
  {
   "cell_type": "code",
   "execution_count": 30,
   "metadata": {},
   "outputs": [],
   "source": [
    "kg_builder = SimpleKGPipeline(\n",
    "   llm=llm,\n",
    "   driver=neo4j_driver,\n",
    "   embedder=embedder,\n",
    "   from_pdf=False,\n",
    "   neo4j_database=\"neo4j\"\n",
    ")"
   ]
  },
  {
   "cell_type": "code",
   "execution_count": 31,
   "metadata": {},
   "outputs": [
    {
     "name": "stdout",
     "output_type": "stream",
     "text": [
      "https://www.hawaii.edu/policy/index.php?action=viewPolicy&policySection=rp&policyChapter=5&policyNumber=205\n",
      "https://www.hawaii.edu/policy/index.php?action=viewPolicy&policySection=ep&policyChapter=5&policyNumber=205\n",
      "https://www.hawaii.edu/policy/index.php?action=viewPolicy&policySection=ap&policyChapter=9&policyNumber=025\n",
      "https://www.hawaii.edu/policy/index.php?action=viewPolicy&policySection=ap&policyChapter=8&policyNumber=611\n",
      "https://www.hawaii.edu/policy/index.php?action=viewPolicy&policySection=ap&policyChapter=8&policyNumber=635\n",
      "https://www.hawaii.edu/policy/index.php?action=viewPolicy&policySection=ap&policyChapter=12&policyNumber=211\n",
      "https://www.hawaii.edu/policy/index.php?action=viewPolicy&policySection=ap&policyChapter=8&policyNumber=571\n",
      "https://www.hawaii.edu/policy/index.php?action=viewPolicy&policySection=ap&policyChapter=7&policyNumber=022\n",
      "https://www.hawaii.edu/policy/index.php?action=viewPolicy&policySection=ap&policyChapter=8&policyNumber=926\n",
      "https://www.hawaii.edu/policy/index.php?action=viewPolicy&policySection=ap&policyChapter=8&policyNumber=927\n",
      "https://www.hawaii.edu/policy/index.php?action=viewPolicy&policySection=ap&policyChapter=9&policyNumber=235\n"
     ]
    }
   ],
   "source": [
    "import json\n",
    "\n",
    "with open(\"policies.json\", \"r\") as f:\n",
    "    data = json.loads(f.read())\n",
    "\n",
    "for i, policy in enumerate(data):\n",
    "    print(policy[\"metadata\"][\"source\"])\n",
    "    await kg_builder.run_async(text=policy[\"page_content\"])\n",
    "    if i == 10:\n",
    "        break"
   ]
  }
 ],
 "metadata": {
  "kernelspec": {
   "display_name": "ai-agent-askus",
   "language": "python",
   "name": "python3"
  },
  "language_info": {
   "codemirror_mode": {
    "name": "ipython",
    "version": 3
   },
   "file_extension": ".py",
   "mimetype": "text/x-python",
   "name": "python",
   "nbconvert_exporter": "python",
   "pygments_lexer": "ipython3",
   "version": "3.10.15"
  }
 },
 "nbformat": 4,
 "nbformat_minor": 2
}
