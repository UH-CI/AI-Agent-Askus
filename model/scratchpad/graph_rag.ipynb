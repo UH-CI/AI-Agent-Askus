{
 "cells": [
  {
   "cell_type": "code",
   "execution_count": 1,
   "metadata": {},
   "outputs": [],
   "source": [
    "import asyncio\n",
    "import json\n",
    "import os\n",
    "import neo4j"
   ]
  },
  {
   "cell_type": "code",
   "execution_count": 3,
   "metadata": {},
   "outputs": [],
   "source": [
    "from dotenv import load_dotenv\n",
    "from tqdm.asyncio import tqdm_asyncio\n",
    "from tqdm import tqdm\n",
    "from neo4j_graphrag.llm import OpenAILLM, OllamaLLM\n",
    "from neo4j_graphrag.llm import OpenAILLM\n",
    "from neo4j_graphrag.llm import LLMInterface\n",
    "from neo4j_graphrag.embeddings.openai import OpenAIEmbeddings\n",
    "from neo4j_graphrag.experimental.pipeline.kg_builder import SimpleKGPipeline\n",
    "from neo4j_graphrag.embeddings.openai import OpenAIEmbeddings"
   ]
  },
  {
   "cell_type": "code",
   "execution_count": 3,
   "metadata": {},
   "outputs": [
    {
     "data": {
      "text/plain": [
       "True"
      ]
     },
     "execution_count": 3,
     "metadata": {},
     "output_type": "execute_result"
    }
   ],
   "source": [
    "# Load environment variables\n",
    "load_dotenv(override=True)"
   ]
  },
  {
   "cell_type": "code",
   "execution_count": 4,
   "metadata": {},
   "outputs": [],
   "source": [
    "# Initialize the Neo4j driver\n",
    "neo4j_driver = neo4j.GraphDatabase.driver(\n",
    "    os.getenv('NEO4J_URI'),\n",
    "    auth=(os.getenv('NEO4J_USERNAME'), os.getenv('NEO4J_PASSWORD'))\n",
    ")"
   ]
  },
  {
   "cell_type": "code",
   "execution_count": 5,
   "metadata": {},
   "outputs": [],
   "source": [
    "# Set up the OpenAI LLM, embedder, and KG builder components:\n",
    "llm = OpenAILLM(\n",
    "    model_name=\"gpt-4o\",\n",
    "    model_params={\n",
    "        \"max_tokens\": 2000,\n",
    "        \"response_format\": {\"type\": \"json_object\"},\n",
    "    },\n",
    ")\n",
    "embedder = OpenAIEmbeddings(model=\"text-embedding-3-large\")\n",
    "kg_builder = SimpleKGPipeline(\n",
    "    llm=llm,\n",
    "    driver=neo4j_driver,\n",
    "    embedder=embedder,\n",
    "    from_pdf=False,\n",
    "    neo4j_database=\"neo4j\"\n",
    ")"
   ]
  },
  {
   "cell_type": "code",
   "execution_count": 6,
   "metadata": {},
   "outputs": [],
   "source": [
    "async def clear_graph_db():\n",
    "    \"\"\"\n",
    "    Clears the entire graph database by deleting all nodes and relationships.\n",
    "    Since the neo4j_driver session is synchronous, this operation is offloaded\n",
    "    to an executor.\n",
    "    \"\"\"\n",
    "    def _clear():\n",
    "        with neo4j_driver.session(database=\"neo4j\") as session:\n",
    "            session.run(\"MATCH (n) DETACH DELETE n\")\n",
    "\n",
    "    loop = asyncio.get_event_loop()\n",
    "    await loop.run_in_executor(None, _clear)\n",
    "    print(\"Graph database cleared.\")\n"
   ]
  },
  {
   "cell_type": "code",
   "execution_count": 7,
   "metadata": {},
   "outputs": [],
   "source": [
    "async def process_policy(policy: dict,\n",
    "                         semaphore: asyncio.Semaphore,\n",
    "                         max_retries: int = 3,\n",
    "                         initial_backoff: int = 60):\n",
    "    \"\"\"\n",
    "    Process a single policy document. Tries to call kg_builder.run_async \n",
    "    and retries upon errors.\n",
    "    \n",
    "    - max_retries: Maximum number of attempts.\n",
    "    - initial_backoff: The initial waiting time (in seconds) that doubles at \n",
    "      each retry.\n",
    "    \"\"\"\n",
    "    # Use info from policy metadata for logging.\n",
    "    source = policy[\"url\"]\n",
    "    \n",
    "    async with semaphore:\n",
    "        for attempt in range(1, max_retries + 1):\n",
    "            try:\n",
    "                print(f\"Processing: {source} (Attempt {attempt})\")\n",
    "                await kg_builder.run_async(text=policy[\"extracted\"])\n",
    "                print(f\"Successfully processed: {source}\")\n",
    "                break  # Exit the retry loop on success.\n",
    "            except Exception as e:\n",
    "                print(f\"Error processing {source} on attempt {attempt}: {e}\")\n",
    "                if attempt == max_retries:\n",
    "                    print(f\"Failed to process {source} after {max_retries} attempts\")\n",
    "                else:\n",
    "                    # Compute the delay using exponential backoff.\n",
    "                    delay = initial_backoff * (attempt - 1)\n",
    "                    print(f\"Retrying in {delay} seconds...\")\n",
    "                    await asyncio.sleep(delay)"
   ]
  },
  {
   "cell_type": "code",
   "execution_count": 11,
   "metadata": {},
   "outputs": [
    {
     "name": "stdout",
     "output_type": "stream",
     "text": [
      "437\n"
     ]
    }
   ],
   "source": [
    "# Load your policies data\n",
    "with open(\"policies.json\", \"r\") as f:\n",
    "    data = json.load(f)\n",
    "    # data = data[:5]\n",
    "    print(len(data))"
   ]
  },
  {
   "cell_type": "code",
   "execution_count": 12,
   "metadata": {},
   "outputs": [],
   "source": [
    "async def main():\n",
    "    # Step 1: Clear the graph database.\n",
    "    await clear_graph_db()\n",
    "\n",
    "    # Step 2: Set a concurrency limit.\n",
    "    semaphore = asyncio.Semaphore(2)\n",
    "\n",
    "    # Create a task for each policy document.\n",
    "    tasks = [\n",
    "        asyncio.create_task(process_policy(policy, semaphore))\n",
    "        for policy in data\n",
    "    ]\n",
    "    \n",
    "    # Use tqdm to create a progress bar.\n",
    "    progress_bar = tqdm(total=len(tasks), desc=\"Processing Policies\")\n",
    "\n",
    "    # As each task completes, update the progress bar.\n",
    "    for fut in asyncio.as_completed(tasks):\n",
    "        try:\n",
    "            await fut\n",
    "        except Exception:\n",
    "            # Exceptions are already handled in process_policy.\n",
    "            pass\n",
    "        progress_bar.update(1)\n",
    "    \n",
    "    progress_bar.close()\n",
    "    print(\"All policies have been processed.\")"
   ]
  },
  {
   "cell_type": "code",
   "execution_count": null,
   "metadata": {},
   "outputs": [],
   "source": [
    "await main()"
   ]
  }
 ],
 "metadata": {
  "kernelspec": {
   "display_name": "ai-agent-askus",
   "language": "python",
   "name": "python3"
  },
  "language_info": {
   "codemirror_mode": {
    "name": "ipython",
    "version": 3
   },
   "file_extension": ".py",
   "mimetype": "text/x-python",
   "name": "python",
   "nbconvert_exporter": "python",
   "pygments_lexer": "ipython3",
   "version": "3.10.15"
  }
 },
 "nbformat": 4,
 "nbformat_minor": 2
}
