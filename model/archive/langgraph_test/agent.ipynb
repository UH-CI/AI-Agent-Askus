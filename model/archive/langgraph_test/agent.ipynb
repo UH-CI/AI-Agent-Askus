{
 "cells": [
  {
   "cell_type": "code",
   "execution_count": 1,
   "metadata": {},
   "outputs": [],
   "source": [
    "from typing import Annotated, Literal, TypedDict\n",
    "from langchain_chroma import Chroma\n",
    "from langchain_huggingface import HuggingFaceEmbeddings\n",
    "from langchain_core.messages import HumanMessage, AIMessage, ToolMessage\n",
    "from langchain_core.tools import tool\n",
    "from langgraph.checkpoint.memory import MemorySaver\n",
    "from langgraph.graph import END, StateGraph, MessagesState\n",
    "from langgraph.prebuilt import ToolNode\n",
    "from langchain_openai import ChatOpenAI\n",
    "from langchain.tools import tool\n",
    "from typing import Optional, Type\n",
    "from langchain_core.prompts import ChatPromptTemplate\n",
    "from langchain_core.tools import BaseTool\n",
    "from langchain.pydantic_v1 import BaseModel, Field\n",
    "from langchain.callbacks.manager import CallbackManagerForToolRun\n",
    "from langchain_core.output_parsers import StrOutputParser"
   ]
  },
  {
   "cell_type": "code",
   "execution_count": 2,
   "metadata": {},
   "outputs": [
    {
     "name": "stderr",
     "output_type": "stream",
     "text": [
      "/home/exouser/.conda/envs/ai-agent-askus/lib/python3.12/site-packages/sentence_transformers/cross_encoder/CrossEncoder.py:11: TqdmWarning: IProgress not found. Please update jupyter and ipywidgets. See https://ipywidgets.readthedocs.io/en/stable/user_install.html\n",
      "  from tqdm.autonotebook import tqdm, trange\n",
      "/home/exouser/.conda/envs/ai-agent-askus/lib/python3.12/site-packages/xformers/ops/fmha/flash.py:211: FutureWarning: `torch.library.impl_abstract` was renamed to `torch.library.register_fake`. Please use that instead; we will remove `torch.library.impl_abstract` in a future version of PyTorch.\n",
      "  @torch.library.impl_abstract(\"xformers_flash::flash_fwd\")\n",
      "/home/exouser/.conda/envs/ai-agent-askus/lib/python3.12/site-packages/xformers/ops/fmha/flash.py:344: FutureWarning: `torch.library.impl_abstract` was renamed to `torch.library.register_fake`. Please use that instead; we will remove `torch.library.impl_abstract` in a future version of PyTorch.\n",
      "  @torch.library.impl_abstract(\"xformers_flash::flash_bwd\")\n",
      "Some weights of the model checkpoint at dunzhang/stella_en_400M_v5 were not used when initializing NewModel: ['new.pooler.dense.bias', 'new.pooler.dense.weight']\n",
      "- This IS expected if you are initializing NewModel from the checkpoint of a model trained on another task or with another architecture (e.g. initializing a BertForSequenceClassification model from a BertForPreTraining model).\n",
      "- This IS NOT expected if you are initializing NewModel from the checkpoint of a model that you expect to be exactly identical (initializing a BertForSequenceClassification model from a BertForSequenceClassification model).\n"
     ]
    }
   ],
   "source": [
    "model_name = 'dunzhang/stella_en_400M_v5'\n",
    "model_kwargs = {'device': 'cuda', \"trust_remote_code\": True}\n",
    "\n",
    "embedding_model = HuggingFaceEmbeddings(\n",
    "    model_name=model_name,\n",
    "    model_kwargs=model_kwargs,\n",
    ")\n",
    "\n",
    "vector_store = Chroma(\n",
    "    collection_name=\"its_faq\",\n",
    "    persist_directory=\"../db\",\n",
    "    embedding_function=embedding_model,\n",
    "    collection_metadata={\"hnsw:space\": \"cosine\"}\n",
    ")\n",
    "\n",
    "retriever = vector_store.as_retriever(\n",
    "    search_kwargs={'k': 2}\n",
    ")"
   ]
  },
  {
   "cell_type": "code",
   "execution_count": 4,
   "metadata": {},
   "outputs": [],
   "source": [
    "class AnswerAboutSelfInput(BaseModel):\n",
    "    query: str = Field(description=\"query about yourself or user greeting\")\n",
    "\n",
    "class AnswerAboutSelf(BaseTool):\n",
    "    name = \"answer_about_self\"\n",
    "    description = \"Use this tool if the user query is a question about the chatbot. If the query is a greeting or a farewell.\\nThe action input must be the user query unedited.\"\n",
    "    args_schema: Type[BaseModel] = AnswerAboutSelfInput\n",
    "    return_direct = True\n",
    "\n",
    "    def _run(self, query: str, run_manager: Optional[CallbackManagerForToolRun] = None) -> str:\n",
    "        system_prompt = (\n",
    "            \"Your name is Hoku. You are an assistant for answering questions about UH Manoa.\\n\"\n",
    "            \"You were initially created during the Hawaii Annual Code Challenge by team DarkMode.\\n\"\n",
    "            \"You are currently under development.\\n\"\n",
    "            \"Only respond with information given here.\\n\"\n",
    "            \"Answer concisely do not add any additional information.\\n\"\n",
    "            \"Reiterate the query then give a concise answer.\"\n",
    "        )\n",
    "\n",
    "        qa_prompt = ChatPromptTemplate.from_messages(\n",
    "            [\n",
    "                (\"system\", system_prompt),\n",
    "                (\"human\", \"{query}\"),\n",
    "            ]\n",
    "        )\n",
    "\n",
    "        chain = qa_prompt | self.metadata['llm'] | StrOutputParser()\n",
    "        return chain.invoke({\"query\": query})"
   ]
  },
  {
   "cell_type": "code",
   "execution_count": 5,
   "metadata": {},
   "outputs": [],
   "source": [
    "class AnswerITSInput(BaseModel):\n",
    "    query: str = Field(description=\"question related to tech\")\n",
    "\n",
    "class AnswerITS(BaseTool):\n",
    "    name = \"answer_its\"\n",
    "    description = \"use this tool if the user has a question related to tech\"\n",
    "    args_schema: Type[BaseModel] = AnswerAboutSelfInput\n",
    "    return_direct = True\n",
    "\n",
    "    def _run(self, query: str, run_manager: Optional[CallbackManagerForToolRun] = None) -> str:\n",
    "        system_prompt = (\n",
    "            \"Your name is Hoku. You are an assistant for answering questions about UH Manoa.\"\n",
    "            \"Answer the question given ONLY the provided context.\\n\"\n",
    "            \"If the answer DOES NOT appear in the context, say 'I'm sorry I don't know the answer to that'.\\n\"\n",
    "            \"Keep your answer concise, informative and with a conversational tone.\\n\"\n",
    "            \"DO NOT mention the context or the text provided.\"\n",
    "            \"if the user greets you, greet them back nicely\"\n",
    "        )\n",
    "\n",
    "        qa_prompt = ChatPromptTemplate.from_messages(\n",
    "            [\n",
    "                (\"system\", system_prompt),\n",
    "                (\"human\", \"context:{context}\\n\\nquestion: {query}\"),\n",
    "            ]\n",
    "        )\n",
    "\n",
    "        chain = qa_prompt | self.metadata['llm'] | StrOutputParser()\n",
    "        return chain.invoke({\"query\": query, \"context\": retriever.invoke(query)})"
   ]
  },
  {
   "cell_type": "code",
   "execution_count": 4,
   "metadata": {},
   "outputs": [],
   "source": [
    "@tool\n",
    "def search(query: str) -> str:\n",
    "    \"\"\"Use this tool to surf the web about weather updates\"\"\"\n",
    "\n",
    "    if \"sf\" in query.lower() or \"san francisco\" in query.lower():\n",
    "        return \"It's 60 degrees and foggy.\"\n",
    "    return \"It's 89 degrees and sunny.\""
   ]
  },
  {
   "cell_type": "code",
   "execution_count": 6,
   "metadata": {},
   "outputs": [],
   "source": [
    "llm = ChatOpenAI(\n",
    "    api_key=\"ollama\",\n",
    "    model=\"mistral-nemo:latest\",\n",
    "    base_url=\"http://localhost:11434/v1\",\n",
    "    temperature=0,\n",
    ")\n",
    "\n",
    "tools = [AnswerAboutSelf(metadata={'llm': llm}), AnswerITS(metadata={'llm': llm})]\n",
    "tool_node = ToolNode(tools)\n",
    "\n",
    "llm_with_tools = llm.bind_tools(tools)"
   ]
  },
  {
   "cell_type": "code",
   "execution_count": 7,
   "metadata": {},
   "outputs": [
    {
     "data": {
      "text/plain": [
       "AIMessage(content=\"Hello! How can I assist you today? Let me know if you have any questions, need some advice, or just want to chat. (I'm here to help!) 😊\", additional_kwargs={'refusal': None}, response_metadata={'token_usage': {'completion_tokens': 39, 'prompt_tokens': 4, 'total_tokens': 43}, 'model_name': 'mistral-nemo:latest', 'system_fingerprint': 'fp_ollama', 'finish_reason': 'stop', 'logprobs': None}, id='run-e2bce5d5-bc55-483b-91fb-5a95333a27e3-0', usage_metadata={'input_tokens': 4, 'output_tokens': 39, 'total_tokens': 43})"
      ]
     },
     "execution_count": 7,
     "metadata": {},
     "output_type": "execute_result"
    }
   ],
   "source": [
    "llm.invoke(\"hello\")"
   ]
  },
  {
   "cell_type": "code",
   "execution_count": 8,
   "metadata": {},
   "outputs": [],
   "source": [
    "from langgraph.prebuilt import create_react_agent"
   ]
  },
  {
   "cell_type": "code",
   "execution_count": 9,
   "metadata": {},
   "outputs": [],
   "source": [
    "def should_continue(state: MessagesState) -> Literal[\"tools\", \"__end__\"]:\n",
    "    messages = state['messages']\n",
    "    last_message = messages[-1]\n",
    "\n",
    "    if last_message.tool_calls:\n",
    "        return \"tools\"\n",
    "\n",
    "    return \"__end__\"\n",
    "\n",
    "\n",
    "def call_model(state: MessagesState):\n",
    "    messages = state['messages']\n",
    "    response = llm_with_tools.invoke(messages)\n",
    "    return {\"messages\": [response]}"
   ]
  },
  {
   "cell_type": "code",
   "execution_count": 10,
   "metadata": {},
   "outputs": [],
   "source": [
    "def print_stream(stream):\n",
    "    for s in stream:\n",
    "        message = s[\"messages\"][-1]\n",
    "        if isinstance(message, tuple):\n",
    "            print(message)\n",
    "        else:\n",
    "            message.pretty_print()"
   ]
  },
  {
   "cell_type": "code",
   "execution_count": 11,
   "metadata": {},
   "outputs": [],
   "source": [
    "def should_return_direct(state: MessagesState) -> Literal[\"agent\", \"__end__\"]:\n",
    "    messages = state['messages']\n",
    "    last_message = messages[-1]\n",
    "    return \"__end__\""
   ]
  },
  {
   "cell_type": "code",
   "execution_count": 17,
   "metadata": {},
   "outputs": [],
   "source": [
    "workflow = StateGraph(MessagesState)\n",
    "\n",
    "workflow.add_node(\"agent\", call_model)\n",
    "workflow.add_node(\"tools\", tool_node)\n",
    "workflow.set_entry_point(\"agent\")\n",
    "\n",
    "workflow.add_conditional_edges(\n",
    "    \"agent\",\n",
    "    should_continue,\n",
    ")\n",
    "\n",
    "workflow.add_edge(\"tools\", 'agent')\n",
    "\n",
    "checkpointer = MemorySaver()\n",
    "\n",
    "app = workflow.compile(checkpointer=checkpointer)"
   ]
  },
  {
   "cell_type": "code",
   "execution_count": 18,
   "metadata": {},
   "outputs": [
    {
     "data": {
      "image/jpeg": "[encoded data removed]",
      "text/plain": [
       "<IPython.core.display.Image object>"
      ]
     },
     "metadata": {},
     "output_type": "display_data"
    }
   ],
   "source": [
    "from IPython.display import Image, display\n",
    "display(Image(app.get_graph().draw_mermaid_png()))"
   ]
  },
  {
   "cell_type": "code",
   "execution_count": 14,
   "metadata": {},
   "outputs": [
    {
     "name": "stdout",
     "output_type": "stream",
     "text": [
      "================================\u001b[1m Human Message \u001b[0m=================================\n",
      "\n",
      "what is your name?\n",
      "==================================\u001b[1m Ai Message \u001b[0m==================================\n",
      "Tool Calls:\n",
      "  answer_about_self (call_5uaxqlt1)\n",
      " Call ID: call_5uaxqlt1\n",
      "  Args:\n",
      "    query: what is your name?\n",
      "=================================\u001b[1m Tool Message \u001b[0m=================================\n",
      "Name: answer_about_self\n",
      "\n",
      "Your question was: \"What is your name?\"\n",
      "My name is Hoku.\n",
      "==================================\u001b[1m Ai Message \u001b[0m==================================\n",
      "\n",
      "Hi there! How can I assist you today?\n"
     ]
    }
   ],
   "source": [
    "inputs = {\"messages\": [(\"user\", \"what is your name?\")]}\n",
    "print_stream(app.stream(inputs, config={\"configurable\": {\"thread_id\": 42}}, stream_mode=\"values\"))"
   ]
  },
  {
   "cell_type": "code",
   "execution_count": 33,
   "metadata": {},
   "outputs": [
    {
     "name": "stdout",
     "output_type": "stream",
     "text": [
      " How do I use duo mobile?\n",
      "\n",
      "To use Duo Mobile for two-factor authentication, follow these steps:\n",
      "\n",
      "1. **Install Duo Mobile**:\n",
      "\t* For iOS: Search for \"Duo Mobile\" in the Apple App Store or click this link: <https://apps.apple.com/us/app/duo-mobile/id586372490>\n",
      "\t* For Android: Search for \"Duo Mobile\" in the Google Play Store or click this link: <https://play.google.com/store/apps/details?id=com.duosecurity.duomobile>\n",
      "\t* Alternatively, use the Duo Mobile Web Application on your computer at <https://duo.com/mobile>\n",
      "2. **Enroll your device**:\n",
      "\t* You'll need an enrollment link or invitation from your organization or service provider to add Duo Mobile as a second factor for your account.\n",
      "\t* Tap on the enrollment link or follow the instructions provided by your organization.\n",
      "\t* Once you've opened the Duo Mobile app, tap \"Add Account\" and scan the QR code displayed on the enrollment page using the app's camera.\n",
      "\t* Enter the passcode (if required) and follow any additional prompts to complete the enrollment process.\n",
      "3. **Log in with Duo Mobile**:\n",
      "\t* When logging into a service protected by Duo, you'll be prompted to enter your primary credentials (e.g., username and password).\n",
      "\t* After successfully entering your primary credentials, you'll receive a push notification on your device running Duo Mobile if you've enrolled the account using push notifications.\n",
      "\t* Tap \"Approve\" to grant access or \"Deny\" to reject the login request. You can also tap \"Call Me\" to have Duo Mobile call you with a passcode instead of using push notifications.\n",
      "4. **Enter a passcode**:\n",
      "\t* If you've enrolled your account using passcodes (TOTP) or if push notifications aren't available, you'll be prompted to enter a passcode after entering your primary credentials.\n",
      "\t* Open the Duo Mobile app and tap on the account for which you're trying to log in. You'll see a time-based passcode displayed beneath the account name.\n",
      "\t* Enter the passcode into the appropriate field on the login page, then tap \"Log In\" or \"Submit.\"\n",
      "5. **Manage your accounts**:\n",
      "\t* To add, remove, or manage your enrolled accounts in Duo Mobile:\n",
      "\t\t+ Tap on the three vertical dots (⋮) next to an account.\n",
      "\t\t+ Select \"Edit Account\" from the menu that appears.\n",
      "\t\t+ Here you can change the account name, enable/disable push notifications, generate a new passcode, or remove the account.\n",
      "\n",
      "By following these steps, you'll be able to use Duo Mobile for two-factor authentication with supported services. Always remember to keep your device's operating system and Duo Mobile app up-to-date for optimal performance and security.\n"
     ]
    }
   ],
   "source": [
    "final_state = app.invoke(\n",
    "    {\"messages\": [HumanMessage(content=\"what is duo mobile?\")]},\n",
    "    config={\"configurable\": {\"thread_id\": 42}}\n",
    ")\n",
    "\n",
    "print(final_state[\"messages\"][-1].content)"
   ]
  },
  {
   "cell_type": "code",
   "execution_count": null,
   "metadata": {},
   "outputs": [],
   "source": []
  }
 ],
 "metadata": {
  "kernelspec": {
   "display_name": "ai-agent-askus",
   "language": "python",
   "name": "python3"
  },
  "language_info": {
   "codemirror_mode": {
    "name": "ipython",
    "version": 3
   },
   "file_extension": ".py",
   "mimetype": "text/x-python",
   "name": "python",
   "nbconvert_exporter": "python",
   "pygments_lexer": "ipython3",
   "version": "3.12.4"
  }
 },
 "nbformat": 4,
 "nbformat_minor": 2
}
